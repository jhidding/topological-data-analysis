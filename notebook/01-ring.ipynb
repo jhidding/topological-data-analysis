{
 "cells": [
  {
   "cell_type": "markdown",
   "metadata": {},
   "source": [
    "# Introduction to Topological Data Analysis with GUDHI"
   ]
  },
  {
   "cell_type": "markdown",
   "metadata": {},
   "source": [
    "This notebooks shows how to use GUDHI to compute persistence diagrams of some 2D point data using alpha shapes."
   ]
  },
  {
   "cell_type": "code",
   "execution_count": 1,
   "metadata": {},
   "outputs": [],
   "source": [
    "import gudhi\n",
    "import numpy as np\n",
    "\n",
    "from matplotlib import pyplot as plt\n",
    "from matplotlib import (collections, tri)"
   ]
  },
  {
   "cell_type": "markdown",
   "metadata": {},
   "source": [
    "## Generate random points in a conspicuous shape\n",
    "\n",
    "We start with a set of random points. We suspect there's an underlying shape to this point set, but how to we quantify shape?"
   ]
  },
  {
   "cell_type": "code",
   "execution_count": 4,
   "metadata": {},
   "outputs": [],
   "source": [
    "N = 50\n",
    "sigma = 0.2\n",
    "theta = np.random.uniform(0, 2 * np.pi, N)\n",
    "radius = np.random.normal(1.0, sigma, (N, 1))\n",
    "points = radius * np.c_[np.cos(theta), np.sin(theta)]"
   ]
  },
  {
   "cell_type": "code",
   "execution_count": 5,
   "metadata": {},
   "outputs": [
    {
     "data": {
      "image/png": "[encoded data removed]",
      "text/plain": [
       "<Figure size 720x720 with 1 Axes>"
      ]
     },
     "metadata": {},
     "output_type": "display_data"
    }
   ],
   "source": [
    "fig, ax = plt.subplots(figsize=(10, 10),subplot_kw={'aspect': 1})\n",
    "ax.scatter(*points.T)\n",
    "plt.show()"
   ]
  },
  {
   "cell_type": "markdown",
   "metadata": {},
   "source": [
    "## Create alpha complex\n",
    "We now generate alpha shapes from our little point set."
   ]
  },
  {
   "cell_type": "code",
   "execution_count": 6,
   "metadata": {},
   "outputs": [],
   "source": [
    "alpha_complex = gudhi.AlphaComplex(points)\n",
    "simplex_tree = alpha_complex.create_simplex_tree()\n",
    "simplex_tree.initialize_filtration()\n",
    "f = simplex_tree.get_filtration()"
   ]
  },
  {
   "cell_type": "markdown",
   "metadata": {},
   "source": [
    "The structure of the returned filtration is\n",
    "\n",
    "```python\n",
    "[([idx0, idx1, ...], alpha), ...]\n",
    "```\n",
    "\n",
    "Vertices have an index list of length 1, edges have an index list of length 2, etc. We'll need some helper functions to get to the simplices in the alpha complex."
   ]
  },
  {
   "cell_type": "code",
   "execution_count": 7,
   "metadata": {},
   "outputs": [],
   "source": [
    "def sub_filtration(filtration, alpha):\n",
    "    return [f for f in filtration if f[1] < alpha]\n",
    "\n",
    "def filtration_vertices(filtration):\n",
    "    return np.array([f[0][0] for f in filtration if len(f[0]) == 1])\n",
    "\n",
    "def filtration_edges(filtration):\n",
    "    return np.array([f[0] for f in filtration if len(f[0]) == 2])\n",
    "\n",
    "def filtration_triangles(filtration):\n",
    "    return np.array([f[0] for f in filtration if len(f[0]) == 3])"
   ]
  },
  {
   "cell_type": "markdown",
   "metadata": {},
   "source": [
    "Now we can plot the alpha-complex as a function of alpha."
   ]
  },
  {
   "cell_type": "code",
   "execution_count": 8,
   "metadata": {},
   "outputs": [],
   "source": [
    "def plot_alpha_shape(points, filtration, alpha, show_balls=False):\n",
    "    f_sub = sub_filtration(filtration, alpha)\n",
    "    fig, ax = plt.subplots(figsize=(10, 10), subplot_kw={'aspect': 1})\n",
    "    \n",
    "    # plot edges\n",
    "    edges = filtration_edges(f_sub)\n",
    "    if edges is not None and edges.size > 0:\n",
    "        lines = collections.LineCollection(points[edges], color='k')\n",
    "        ax.add_collection(lines)\n",
    "\n",
    "    # plot triangles\n",
    "    triangles = filtration_triangles(f_sub)\n",
    "    if triangles is not None and triangles.size > 0:\n",
    "        colors = np.ones(len(triangles))\n",
    "        ax.tripcolor(\n",
    "            points[:,0], points[:,1], triangles, alpha=0.3,\n",
    "            facecolors=colors)\n",
    "    \n",
    "    # show balls\n",
    "    if show_balls:\n",
    "        radius = np.ones(len(points)) * np.sqrt(alpha)\n",
    "        angles = np.zeros(len(points))\n",
    "        circles = collections.EllipseCollection(\n",
    "            radius*2, radius*2, angles, offsets=points, units='xy',\n",
    "            transOffset=ax.transData, alpha=1.0, color='#ffd0d0', zorder=0)\n",
    "        ax.add_collection(circles, autolim=True)\n",
    "        \n",
    "    # plot vertices        \n",
    "    ax.scatter(*points.T, c='k', zorder=5)\n",
    "   \n",
    "    plt.show()"
   ]
  },
  {
   "cell_type": "code",
   "execution_count": 9,
   "metadata": {},
   "outputs": [
    {
     "data": {
      "application/vnd.jupyter.widget-view+json": {
       "model_id": "ea2181a4c3dd48cd8f64c92b29b1fff6",
       "version_major": 2,
       "version_minor": 0
      },
      "text/plain": [
       "interactive(children=(FloatSlider(value=0.35000000000000003, description='√α', max=0.7, step=0.01), Checkbox(v…"
      ]
     },
     "metadata": {},
     "output_type": "display_data"
    }
   ],
   "source": [
    "from ipywidgets import interactive\n",
    "interactive_plot = interactive(\n",
    "    lambda sqrt_alpha, show_balls: plot_alpha_shape(\n",
    "        points, f, sqrt_alpha**2, show_balls),\n",
    "    sqrt_alpha=(0.0,0.7,0.01), show_balls=False)\n",
    "output = interactive_plot.children[-1]\n",
    "output.layout.height = '600px'\n",
    "interactive_plot.children[0].description = '√α'\n",
    "interactive_plot.children[1].description = 'show some balls'\n",
    "interactive_plot"
   ]
  },
  {
   "cell_type": "markdown",
   "metadata": {},
   "source": [
    "Growing balls around the points in the point set, we see that the topology of the triangulation changes"
   ]
  },
  {
   "cell_type": "markdown",
   "metadata": {},
   "source": [
    "## Persistence diagram"
   ]
  },
  {
   "cell_type": "code",
   "execution_count": 10,
   "metadata": {},
   "outputs": [],
   "source": [
    "p = simplex_tree.persistence()\n",
    "max_p = np.array([j[1] for j in p if j[0] == 1])[:,1].max()"
   ]
  },
  {
   "cell_type": "code",
   "execution_count": 11,
   "metadata": {},
   "outputs": [
    {
     "data": {
      "image/png": "[encoded data removed]",
      "text/plain": [
       "<Figure size 720x720 with 2 Axes>"
      ]
     },
     "metadata": {},
     "output_type": "display_data"
    }
   ],
   "source": [
    "fig, ax = plt.subplots(1, 2, figsize=(10,10), sharey=True, subplot_kw={'aspect': 1})\n",
    "\n",
    "for i in range(2):\n",
    "    birth, death = np.array([j[1] for j in p if j[0] == i]).T\n",
    "    ax[i].scatter(birth, death, c=['navy', 'maroon'][i])\n",
    "    ax[i].plot([0, 1.1*max_p], [0, 1.1*max_p], 'k-')\n",
    "    ax[i].set_title('$\\\\beta_{}$'.format(i))\n",
    "    \n",
    "    ax[i].set_xlim([-0.01, 1.1*max_p])\n",
    "    ax[i].set_ylim([-0, 1.1*max_p])\n",
    "\n",
    "    ax[i].set_xlabel('birth')\n",
    "    if i == 0:\n",
    "        ax[i].set_ylabel('death')\n",
    "\n",
    "fig.tight_layout()\n",
    "plt.show()"
   ]
  },
  {
   "cell_type": "code",
   "execution_count": null,
   "metadata": {},
   "outputs": [],
   "source": []
  }
 ],
 "metadata": {
  "kernelspec": {
   "display_name": "Python 3",
   "language": "python",
   "name": "python3"
  },
  "language_info": {
   "codemirror_mode": {
    "name": "ipython",
    "version": 3
   },
   "file_extension": ".py",
   "mimetype": "text/x-python",
   "name": "python",
   "nbconvert_exporter": "python",
   "pygments_lexer": "ipython3",
   "version": "3.6.5rc1"
  }
 },
 "nbformat": 4,
 "nbformat_minor": 2
}
